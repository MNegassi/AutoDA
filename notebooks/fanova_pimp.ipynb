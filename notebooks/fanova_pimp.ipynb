{
 "cells": [
  {
   "cell_type": "markdown",
   "metadata": {},
   "source": [
    "FANOVA PLOTS"
   ]
  },
  {
   "cell_type": "code",
   "execution_count": 3,
   "metadata": {},
   "outputs": [
    {
     "name": "stdout",
     "output_type": "stream",
     "text": [
      "/home/misgana/AutoDA/notebooks/../..\n",
      "path /home/misgana/AutoDA/notebooks/../../AutoData\n"
     ]
    },
    {
     "data": {
      "text/plain": [
       "'\\nf = fANOVA(X, y)\\nvis = visualizer.Visualizer(f, f.cs, directory=output_directory)\\n\\nfor i in range(len(order)):\\n    plt = vis.plot_marginal(i, show=False)\\n    plt.xlabel(order[i])\\n    plt.ylabel(\"Test Error\")\\n    plt.show()\\n'"
      ]
     },
     "execution_count": 3,
     "metadata": {},
     "output_type": "execute_result"
    }
   ],
   "source": [
    "import sys\n",
    "import os\n",
    "import pandas as pd\n",
    "from os.path import abspath, join as path_join\n",
    "import numpy as np\n",
    "\n",
    "import json\n",
    "import seaborn as sns\n",
    "PARENT_DIR =  path_join(os.getcwd(), \"..\", \"..\")\n",
    "print(PARENT_DIR)\n",
    "sys.path.insert(0, PARENT_DIR)\n",
    "\n",
    "from itertools import product\n",
    "from glob import glob\n",
    "from collections import OrderedDict\n",
    "%matplotlib inline\n",
    "import matplotlib.pyplot as plt\n",
    "from matplotlib.transforms import Bbox\n",
    "from matplotlib.ticker import FormatStrFormatter\n",
    "import ConfigSpace as CS\n",
    "#from autoda.data_augmentation import ImageAugmentation\n",
    "from fanova import fANOVA\n",
    "from fanova import visualizer\n",
    "\n",
    "\n",
    "\n",
    "sns.set_style(style='whitegrid')\n",
    "\n",
    "\n",
    "plt.rcParams['figure.figsize'] = (8.0, 6.0)\n",
    "plt.rcParams['xtick.labelsize'] = 15\n",
    "plt.rcParams['ytick.labelsize'] = 15\n",
    "plt.rc('font', size=15.0, family='serif')\n",
    "plt.rcParams['text.latex.preamble']=[r\"\\usepackage{amsmath}\"]\n",
    "\n",
    "# READ DATA\n",
    "path = path_join(abspath(\".\"), \"..\", \"..\", \"AutoData\")\n",
    "print(\"path\", path)\n",
    "msg = \"Results to plot do not exist. Check path. {}\".format(path)\n",
    "assert os.path.exists(path), msg\n",
    "\n",
    "order = [\"coarse_dropout_size_percent_lower\" , \"scale_lower\" , \"coarse_dropout_upper\",\n",
    "         \"coarse_dropout_size_percent_upper\", \"scale_upper\", \"coarse_dropout_lower\",\n",
    "         \"rotation_upper\", \"coarse_dropout_probability\", \"pad_crop_upper\", \"vertical_flip\",\n",
    "         \"pad_crop_lower\", \"rotation_probability\", \"horizontal_flip\", \"augment_probability\", \n",
    "         \"rotation_lower\", \"pad_crop_probability\", \"scale_probability\"\n",
    "]\n",
    "\n",
    "benchmarks = [\"LeNet\", \"AlexNet\"]\n",
    "optimizers = (\"BOHB\",)\n",
    "datasets = (\"mnist\", \"cifar10\", \"cifar100\",)\n",
    "\n",
    "marker=\"random\"\n",
    "\n",
    "def read_data(dataset, benchmark=\"AlexNet\", marker=\"random\"):\n",
    "    base_path = path_join(path, dataset, \"random\", benchmark)\n",
    "    filenames = glob(\"{base_path}/{marker}*{dataset}*.json\".format(base_path=base_path, marker=marker, dataset=dataset))\n",
    "    #print(filenames)\n",
    "    \n",
    "    def read_files(filenames):\n",
    "        data = {}\n",
    "        test_error = []\n",
    "        configs=[]\n",
    "        for filename in filenames:\n",
    "            with open(filename, \"r\") as f:\n",
    "                json_content = json.load(f)\n",
    "                test_error.append(json_content[\"test_error\"])\n",
    "                configs.append(json_content[\"configs\"])\n",
    "                data[\"configs\"] = configs\n",
    "                data[\"test_error\"] = test_error\n",
    "                #print(json_content)\n",
    "            #print(data)\n",
    "        return data\n",
    "    data= read_files(filenames=filenames)\n",
    "    return data\n",
    "\n",
    "dataset = \"cifar10\"\n",
    "benchmark = \"AlexNet\"\n",
    "results = read_data(dataset=dataset, benchmark=benchmark)\n",
    "\n",
    "\n",
    "# FANOVA PLOTS\n",
    "X = []\n",
    "for c in results[\"configs\"]:\n",
    "    vec = []\n",
    "    for j, k in enumerate(order):\n",
    "        if c[k] is not None: \n",
    "            vec.append(c[k])\n",
    "            \n",
    "        else:\n",
    "            vec.append(0)\n",
    "    X.append(vec)\n",
    "X = np.array(X)\n",
    "y = results[\"test_error\"]\n",
    "\n",
    "\n",
    "\n",
    "output_directory = path_join(path, \"plots/fanova/{}\".format(dataset))\n",
    "\"\"\"\n",
    "f = fANOVA(X, y)\n",
    "vis = visualizer.Visualizer(f, f.cs, directory=output_directory)\n",
    "\n",
    "for i in range(len(order)):\n",
    "    plt = vis.plot_marginal(i, show=False)\n",
    "    plt.xlabel(order[i])\n",
    "    plt.ylabel(\"Test Error\")\n",
    "    plt.show()\n",
    "\"\"\""
   ]
  },
  {
   "cell_type": "code",
   "execution_count": 4,
   "metadata": {},
   "outputs": [
    {
     "name": "stdout",
     "output_type": "stream",
     "text": [
      "/home/misgana/AutoDA/notebooks/../..\n",
      "/home/misgana/AutoDA/notebooks/../../AutoDA\n",
      "path /home/misgana/AutoDA/notebooks/../../AutoData\n",
      "<smac.scenario.scenario.Scenario object at 0x7f6ef937cc18>\n",
      "(1189, 17)\n",
      "(1189,)\n"
     ]
    },
    {
     "name": "stderr",
     "output_type": "stream",
     "text": [
      "Predicting performances for neighbors of vertical_flip: 100%|##########| 8517/8517 [00:05<00:00, 1570.21it/s]                 \n",
      "Plotting results for vertical_flip: 100%|##########| 17/17 [00:06<00:00,  2.69it/s]                   "
     ]
    },
    {
     "name": "stdout",
     "output_type": "stream",
     "text": [
      "({'lpi': {'order': ['scale_lower', 'pad_crop_upper', 'vertical_flip', 'rotation_lower', 'coarse_dropout_lower', 'rotation_upper', 'pad_crop_lower', 'rotation_probability', 'scale_probability', 'scale_upper', 'pad_crop_probability', 'horizontal_flip', 'coarse_dropout_size_percent_lower', 'augment_probability', 'coarse_dropout_probability', 'coarse_dropout_size_percent_upper', 'coarse_dropout_upper'], 'imp': OrderedDict([('scale_lower', 0.6676784289095453), ('pad_crop_upper', 0.32158859333890294), ('vertical_flip', 0.0024679497306767787), ('rotation_lower', 0.0020920686692855375), ('coarse_dropout_lower', 0.0016364409051347296), ('rotation_upper', 0.0011113738371579492), ('pad_crop_lower', 0.0009913734727184874), ('rotation_probability', 0.0007305345435724383), ('scale_probability', 0.0005481253908999868), ('scale_upper', 0.0003474746606765778), ('pad_crop_probability', 0.0001939609048564334), ('horizontal_flip', 0.00019023455204291077), ('coarse_dropout_size_percent_lower', 0.00018091961032593135), ('augment_probability', 0.00014962222580742405), ('coarse_dropout_probability', 9.289924839655745e-05), ('coarse_dropout_size_percent_upper', 4.148965282287633e-30), ('coarse_dropout_upper', 4.148965282287633e-30)])}}, [<pimp.evaluator.local_parameter_importance.LPI object at 0x7f6f13d4d588>])\n"
     ]
    },
    {
     "name": "stderr",
     "output_type": "stream",
     "text": [
      "\n"
     ]
    }
   ],
   "source": [
    "import sys\n",
    "import os\n",
    "import pandas as pd\n",
    "from os.path import abspath, join as path_join\n",
    "import numpy as np\n",
    "\n",
    "import json\n",
    "import seaborn as sns\n",
    "PARENT_DIR =  path_join(os.getcwd(), \"..\", \"..\")\n",
    "print(PARENT_DIR)\n",
    "sys.path.insert(0, PARENT_DIR)\n",
    "\n",
    "from itertools import product\n",
    "from glob import glob\n",
    "from collections import OrderedDict\n",
    "%matplotlib inline\n",
    "import matplotlib.pyplot as plt\n",
    "from matplotlib.transforms import Bbox\n",
    "from matplotlib.ticker import FormatStrFormatter\n",
    "import ConfigSpace as CS\n",
    "#from autoda.data_augmentation import ImageAugmentation\n",
    "from fanova import fANOVA\n",
    "from fanova import visualizer\n",
    "import ConfigSpace as CS\n",
    "AUTODA_DIR =  path_join(os.getcwd(), \"..\", \"..\",\"AutoDA\")\n",
    "print(AUTODA_DIR)\n",
    "sys.path.insert(0, AUTODA_DIR)\n",
    "\n",
    "\n",
    "sns.set_style(style='whitegrid')\n",
    "\n",
    "\n",
    "plt.rcParams['figure.figsize'] = (8.0, 6.0)\n",
    "plt.rcParams['xtick.labelsize'] = 15\n",
    "plt.rcParams['ytick.labelsize'] = 15\n",
    "plt.rc('font', size=15.0, family='serif')\n",
    "plt.rcParams['text.latex.preamble']=[r\"\\usepackage{amsmath}\"]\n",
    "\n",
    "# READ DATA\n",
    "path = path_join(abspath(\".\"), \"..\", \"..\", \"AutoData\")\n",
    "print(\"path\", path)\n",
    "msg = \"Results to plot do not exist. Check path. {}\".format(path)\n",
    "assert os.path.exists(path), msg\n",
    "\n",
    "from autoda.data_augmentation import ImageAugmentation\n",
    "\n",
    "b = results[\"configs\"][0]\n",
    "cs = ImageAugmentation.get_config_space()\n",
    "incumbent = CS.Configuration(cs, values=b)\n",
    "from smac.scenario.scenario import Scenario\n",
    "\n",
    "\n",
    "\n",
    "scenario = Scenario({\"run_obj\": \"quality\",\n",
    "                     \"runcount-limit\": 10000,\n",
    "                     \"cs\": cs,\n",
    "                     \"deterministic\": \"true\",\n",
    "                     \"initial_incumbent\": \"RANDOM\",\n",
    "                     \"output_dir\": \"\"})\n",
    "\n",
    "print(scenario)\n",
    "\n",
    "from pimp.pimp import PIMP\n",
    "plt.rcParams['text.usetex'] =False\n",
    "\n",
    "pimp = PIMP(scenario, X=X, y=y, mode=['lpi'], save_folder=output_directory)\n",
    "pimp.imp.incumbent = incumbent\n",
    "print(pimp.X.shape)\n",
    "print(pimp.y.shape)\n",
    "\n",
    "result = pimp.compute_importances()\n",
    "print(result)"
   ]
  },
  {
   "cell_type": "code",
   "execution_count": null,
   "metadata": {},
   "outputs": [],
   "source": [
    "\n"
   ]
  },
  {
   "cell_type": "code",
   "execution_count": null,
   "metadata": {},
   "outputs": [],
   "source": []
  }
 ],
 "metadata": {
  "kernelspec": {
   "display_name": "Python 3",
   "language": "python",
   "name": "python3"
  },
  "language_info": {
   "codemirror_mode": {
    "name": "ipython",
    "version": 3
   },
   "file_extension": ".py",
   "mimetype": "text/x-python",
   "name": "python",
   "nbconvert_exporter": "python",
   "pygments_lexer": "ipython3",
   "version": "3.5.2"
  }
 },
 "nbformat": 4,
 "nbformat_minor": 2
}
