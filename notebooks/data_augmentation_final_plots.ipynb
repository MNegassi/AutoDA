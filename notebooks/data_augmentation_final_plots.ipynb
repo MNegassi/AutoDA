{
 "cells": [
  {
   "cell_type": "markdown",
   "metadata": {},
   "source": [
    "Bar Plots"
   ]
  },
  {
   "cell_type": "code",
   "execution_count": 26,
   "metadata": {
    "collapsed": true
   },
   "outputs": [],
   "source": [
    "import sys\n",
    "import os\n",
    "import pandas as pd\n",
    "from os.path import abspath, join as path_join\n",
    "import numpy as np\n",
    "import ConfigSpace as CS\n",
    "import json\n",
    "%matplotlib inline\n",
    "import matplotlib.pyplot as plt\n",
    "import seaborn as sns\n",
    "PARENT_DIR =  path_join(os.getcwd(), \"..\", \"..\")\n",
    "sys.path.insert(0, PARENT_DIR)\n",
    "#from autoda.data_augmentation import ImageAugmentation\n",
    "from fanova import fANOVA\n",
    "from fanova import visualizer\n",
    "\n",
    "\n",
    "\n",
    "sns.set_style(style='whitegrid')\n",
    "\n",
    "\n",
    "plt.rcParams['figure.figsize'] = (8.0, 6.0)\n",
    "plt.rcParams['xtick.labelsize'] = 15\n",
    "plt.rcParams['ytick.labelsize'] = 15\n",
    "plt.rc('font', size=15.0, family='serif')\n",
    "plt.rcParams['text.latex.preamble']=[r\"\\usepackage{amsmath}\"]"
   ]
  },
  {
   "cell_type": "code",
   "execution_count": 29,
   "metadata": {},
   "outputs": [
    {
     "name": "stdout",
     "output_type": "stream",
     "text": [
      "/mhome/negassim/AutoDA/notebooks/../../AutoData\n"
     ]
    }
   ],
   "source": [
    "\n",
    "benchmarks = [\"AlexNet\",\"ResNet\", \"WideResNet\"]"
   ]
  },
  {
   "cell_type": "markdown",
   "metadata": {},
   "source": [
    "Bar Plots for Hyperband Results on AlexNet"
   ]
  },
  {
   "cell_type": "code",
   "execution_count": 52,
   "metadata": {},
   "outputs": [
    {
     "name": "stdout",
     "output_type": "stream",
     "text": [
      "/mhome/negassim/AutoDA/notebooks/../../AutoData\n",
      "/mhome/negassim/AutoDA/notebooks/../../AutoData/cifar10/hyperband\n",
      "0 cifar100\n",
      "1 cifar100\n",
      "2 cifar100\n",
      "3 cifar100\n",
      "[0.15169999999999995, 0.14780000000000004, 0.15439999999999998, 0.16169999999999995]\n"
     ]
    }
   ],
   "source": [
    "path = path_join(abspath(\".\"), \"..\", \"..\", \"AutoData\")\n",
    "print(path)\n",
    "msg = \"Results to plot do not exist. Check path. {}\".format(path)\n",
    "assert os.path.exists(path), msg\n",
    "\n",
    "optimizers = [\"hyperband\", \"BOHB\"]\n",
    "datasets = [\"cifar10\", \"cifar100\"]\n",
    "\n",
    "hyperband = path_join(path, (\"cifar10/hyperband\"))\n",
    "print(hyperband)\n",
    "best_config  = []\n",
    "standard = []\n",
    "for d in datasets:\n",
    "    p = dict()\n",
    "\n",
    "    n_runs = 4\n",
    "    for i in range(0, n_runs):\n",
    "        try:\n",
    "            from os.path import abspath, join as path_join\n",
    "            best_config_path = \"AlexNet/best_config_hyperband_%s_AlexNet_%d.json\" % (d, i)\n",
    "            filename = path_join(hyperband, best_config_path)\n",
    "            with open(filename, \"r\") as f:\n",
    "                res = json.load(f)\n",
    "        except FileNotFoundError:\n",
    "            print(i, d)\n",
    "            continue\n",
    "        best_config.append(res[\"best_run_info\"][\"info\"][\"validation_error\"])\n",
    "        try:\n",
    "            from os.path import abspath, join as path_join\n",
    "            standard_path = \"AlexNet/standard/standard_hyperband_%s_%d.json\" % (d, i)\n",
    "            filename2 = path_join(hyperband, standard_path)\n",
    "            with open(filename2, \"r\") as f:\n",
    "                res2 = json.load(f)\n",
    "        except FileNotFoundError:\n",
    "            print(i, d)\n",
    "            continue\n",
    "        standard.append(res2[\"best_run_info\"][\"validation_error\"])\n",
    "print(standard)"
   ]
  },
  {
   "cell_type": "code",
   "execution_count": 53,
   "metadata": {},
   "outputs": [
    {
     "data": {
      "image/png": "[encoded data removed]",
      "text/plain": [
       "<matplotlib.figure.Figure at 0x7fc46bb23828>"
      ]
     },
     "metadata": {},
     "output_type": "display_data"
    }
   ],
   "source": [
    "data = pd.DataFrame({\"best_confg\": best_config, \"standard\": standard})\n",
    "ax = sns.barplot(data=data)"
   ]
  },
  {
   "cell_type": "markdown",
   "metadata": {},
   "source": [
    "Model-based Hyperband results on cifar10 and AlexNet"
   ]
  },
  {
   "cell_type": "code",
   "execution_count": 59,
   "metadata": {},
   "outputs": [
    {
     "name": "stdout",
     "output_type": "stream",
     "text": [
      "/mhome/negassim/AutoDA/notebooks/../../AutoData\n",
      "/mhome/negassim/AutoDA/notebooks/../../AutoData/cifar10/hyperband\n",
      "/mhome/negassim/AutoDA/notebooks/../../AutoData/cifar10/BOHB/AlexNet/best_config_hyperband_cifar10_1.json\n",
      "1 cifar10\n",
      "/mhome/negassim/AutoDA/notebooks/../../AutoData/cifar10/BOHB/AlexNet/best_config_hyperband_cifar10_2.json\n",
      "2 cifar10\n",
      "/mhome/negassim/AutoDA/notebooks/../../AutoData/cifar10/BOHB/AlexNet/best_config_hyperband_cifar10_3.json\n",
      "3 cifar10\n",
      "/mhome/negassim/AutoDA/notebooks/../../AutoData/cifar10/BOHB/AlexNet/best_config_hyperband_cifar10_4.json\n",
      "4 cifar10\n",
      "/mhome/negassim/AutoDA/notebooks/../../AutoData/cifar10/BOHB/AlexNet/best_config_hyperband_cifar100_1.json\n",
      "1 cifar100\n",
      "/mhome/negassim/AutoDA/notebooks/../../AutoData/cifar10/BOHB/AlexNet/best_config_hyperband_cifar100_2.json\n",
      "2 cifar100\n",
      "/mhome/negassim/AutoDA/notebooks/../../AutoData/cifar10/BOHB/AlexNet/best_config_hyperband_cifar100_3.json\n",
      "3 cifar100\n",
      "/mhome/negassim/AutoDA/notebooks/../../AutoData/cifar10/BOHB/AlexNet/best_config_hyperband_cifar100_4.json\n",
      "4 cifar100\n",
      "[]\n"
     ]
    }
   ],
   "source": [
    "\n",
    "   \n",
    "path = path_join(abspath(\".\"), \"..\", \"..\", \"AutoData\")\n",
    "print(path)\n",
    "msg = \"Results to plot do not exist. Check path. {}\".format(path)\n",
    "assert os.path.exists(path), msg\n",
    "\n",
    "optimizers = [\"hyperband\", \"BOHB\"]\n",
    "datasets = [\"cifar10\", \"cifar100\"]\n",
    "\n",
    "BOHB = path_join(path, (\"cifar10/BOHB\"))\n",
    "print(hyperband)\n",
    "best_config  = []\n",
    "standard = []\n",
    "for d in datasets:\n",
    "    p = dict()\n",
    "\n",
    "    n_runs = 5\n",
    "    for i in range(1, n_runs):\n",
    "        try:\n",
    "            from os.path import abspath, join as path_join\n",
    "            best_config_path = \"AlexNet/best_config_hyperband_%s_%d.json\" % (d, i)\n",
    "            filename = path_join(BOHB, best_config_path)\n",
    "            print(filename)\n",
    "            with open(filename, \"r\") as f:\n",
    "                res = json.load(f)\n",
    "        except FileNotFoundError:\n",
    "            print(i, d)\n",
    "            continue\n",
    "        best_config.append(res[\"best_run_info\"][\"info\"][\"validation_error\"])\n",
    "        try:\n",
    "            from os.path import abspath, join as path_join\n",
    "            standard_path = \"AlexNet/standard/standard_hyperband_%s_%d.json\" % (d, i)\n",
    "            filename2 = path_join(BOHB, standard_path)\n",
    "            with open(filename2, \"r\") as f:\n",
    "                res2 = json.load(f)\n",
    "        except FileNotFoundError:\n",
    "            print(i, d)\n",
    "            continue\n",
    "        standard.append(res2[\"best_run_info\"][\"validation_error\"])\n",
    "print(standard)"
   ]
  },
  {
   "cell_type": "markdown",
   "metadata": {},
   "source": []
  },
  {
   "cell_type": "code",
   "execution_count": null,
   "metadata": {
    "collapsed": true
   },
   "outputs": [],
   "source": []
  },
  {
   "cell_type": "code",
   "execution_count": null,
   "metadata": {
    "collapsed": true
   },
   "outputs": [],
   "source": []
  }
 ],
 "metadata": {
  "kernelspec": {
   "display_name": "Python 3",
   "language": "python",
   "name": "python3"
  },
  "language_info": {
   "codemirror_mode": {
    "name": "ipython",
    "version": 3
   },
   "file_extension": ".py",
   "mimetype": "text/x-python",
   "name": "python",
   "nbconvert_exporter": "python",
   "pygments_lexer": "ipython3",
   "version": "3.5.2"
  }
 },
 "nbformat": 4,
 "nbformat_minor": 2
}
