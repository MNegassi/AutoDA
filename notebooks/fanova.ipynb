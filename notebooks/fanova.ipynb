{
 "cells": [
  {
   "cell_type": "markdown",
   "metadata": {},
   "source": [
    "FANOVA PLOTS"
   ]
  },
  {
   "cell_type": "code",
   "execution_count": null,
   "metadata": {},
   "outputs": [
    {
     "name": "stdout",
     "output_type": "stream",
     "text": [
      "path /home/misgana/remote/AutoDA/notebooks/../../AutoData\n"
     ]
    }
   ],
   "source": [
    "import sys\n",
    "import os\n",
    "import pandas as pd\n",
    "from os.path import abspath, join as path_join\n",
    "import numpy as np\n",
    "\n",
    "import json\n",
    "import seaborn as sns\n",
    "PARENT_DIR =  path_join(os.getcwd(), \"..\", \"..\")\n",
    "sys.path.insert(0, PARENT_DIR)\n",
    "\n",
    "from itertools import product\n",
    "from glob import glob\n",
    "from collections import OrderedDict\n",
    "%matplotlib inline\n",
    "import matplotlib.pyplot as plt\n",
    "from matplotlib.transforms import Bbox\n",
    "from matplotlib.ticker import FormatStrFormatter\n",
    "import ConfigSpace as CS\n",
    "#from autoda.data_augmentation import ImageAugmentation\n",
    "from fanova import fANOVA\n",
    "from fanova import visualizer\n",
    "\n",
    "\n",
    "\n",
    "sns.set_style(style='whitegrid')\n",
    "\n",
    "\n",
    "plt.rcParams['figure.figsize'] = (8.0, 6.0)\n",
    "plt.rcParams['xtick.labelsize'] = 15\n",
    "plt.rcParams['ytick.labelsize'] = 15\n",
    "plt.rc('font', size=15.0, family='serif')\n",
    "plt.rcParams['text.latex.preamble']=[r\"\\usepackage{amsmath}\"]\n",
    "\n",
    "# READ DATA\n",
    "path = path_join(abspath(\".\"), \"..\", \"..\", \"AutoData\")\n",
    "print(\"path\", path)\n",
    "msg = \"Results to plot do not exist. Check path. {}\".format(path)\n",
    "assert os.path.exists(path), msg\n",
    "\n",
    "order = [\"coarse_dropout_size_percent_lower\" , \"scale_lower\" , \"coarse_dropout_upper\",\n",
    "         \"coarse_dropout_size_percent_upper\", \"scale_upper\", \"coarse_dropout_lower\",\n",
    "         \"rotation_upper\", \"coarse_dropout_probability\", \"pad_crop_upper\", \"vertical_flip\",\n",
    "         \"pad_crop_lower\", \"rotation_probability\", \"horizontal_flip\", \"augment_probability\", \n",
    "         \"rotation_lower\", \"pad_crop_probability\", \"scale_probability\"\n",
    "]\n",
    "\n",
    "benchmarks = [\"LeNet\", \"AlexNet\"]\n",
    "optimizers = (\"BOHB\",)\n",
    "datasets = (\"mnist\", \"cifar10\", \"cifar100\",)\n",
    "\n",
    "marker=\"random\"\n",
    "\n",
    "def read_data(dataset, benchmark=\"AlexNet\", marker=\"random\"):\n",
    "    base_path = path_join(path, dataset, \"random\", benchmark)\n",
    "    filenames = glob(\"{base_path}/{marker}*{dataset}*.json\".format(base_path=base_path, marker=marker, dataset=dataset))\n",
    "    #print(filenames)\n",
    "    \n",
    "    def read_files(filenames):\n",
    "        data = {}\n",
    "        test_error = []\n",
    "        configs=[]\n",
    "        for filename in filenames:\n",
    "            with open(filename, \"r\") as f:\n",
    "                json_content = json.load(f)\n",
    "                test_error.append(json_content[\"test_error\"])\n",
    "                configs.append(json_content[\"configs\"])\n",
    "                data[\"configs\"] = configs\n",
    "                data[\"test_error\"] = test_error\n",
    "                #print(json_content)\n",
    "            #print(data)\n",
    "        return data\n",
    "    data= read_files(filenames=filenames)\n",
    "    return data\n",
    "results = read_data(dataset=\"cifar10\", benchmark=\"AlexNet\")\n",
    "\n",
    "\n",
    "# FANOVA PLOTS\n",
    "X = []\n",
    "for c in results[\"configs\"]:\n",
    "    vec = []\n",
    "    for j, k in enumerate(order):\n",
    "        if c[k] is not None: \n",
    "            vec.append(c[k])\n",
    "            \n",
    "        else:\n",
    "            vec.append(0)\n",
    "    X.append(vec)\n",
    "X = np.array(X)\n",
    "y = results[\"test_error\"]\n",
    "\n",
    "f = fANOVA(X, y)\n",
    "vis = visualizer.Visualizer(f, f.cs)\n",
    "\n",
    "for i in range(len(order)):\n",
    "    plt = vis.plot_marginal(i, show=False)\n",
    "    plt.xlabel(order[i])\n",
    "    plt.ylabel(\"Test Error\")\n",
    "    plt.show()\n"
   ]
  },
  {
   "cell_type": "code",
   "execution_count": 1,
   "metadata": {},
   "outputs": [
    {
     "ename": "NameError",
     "evalue": "name 'path_join' is not defined",
     "output_type": "error",
     "traceback": [
      "\u001b[0;31m---------------------------------------------------------------------------\u001b[0m",
      "\u001b[0;31mNameError\u001b[0m                                 Traceback (most recent call last)",
      "\u001b[0;32m<ipython-input-1-bbdd0616aeb5>\u001b[0m in \u001b[0;36m<module>\u001b[0;34m()\u001b[0m\n\u001b[0;32m----> 1\u001b[0;31m \u001b[0mpath\u001b[0m \u001b[0;34m=\u001b[0m \u001b[0mpath_join\u001b[0m\u001b[0;34m(\u001b[0m\u001b[0mabspath\u001b[0m\u001b[0;34m(\u001b[0m\u001b[0;34m\".\"\u001b[0m\u001b[0;34m)\u001b[0m\u001b[0;34m,\u001b[0m \u001b[0;34m\"..\"\u001b[0m\u001b[0;34m,\u001b[0m \u001b[0;34m\"..\"\u001b[0m\u001b[0;34m,\u001b[0m \u001b[0;34m\"AutoData\"\u001b[0m\u001b[0;34m)\u001b[0m\u001b[0;34m\u001b[0m\u001b[0m\n\u001b[0m\u001b[1;32m      2\u001b[0m \u001b[0mprint\u001b[0m\u001b[0;34m(\u001b[0m\u001b[0;34m\"path\"\u001b[0m\u001b[0;34m,\u001b[0m \u001b[0mpath\u001b[0m\u001b[0;34m)\u001b[0m\u001b[0;34m\u001b[0m\u001b[0m\n\u001b[1;32m      3\u001b[0m \u001b[0mmsg\u001b[0m \u001b[0;34m=\u001b[0m \u001b[0;34m\"Results to plot do not exist. Check path. {}\"\u001b[0m\u001b[0;34m.\u001b[0m\u001b[0mformat\u001b[0m\u001b[0;34m(\u001b[0m\u001b[0mpath\u001b[0m\u001b[0;34m)\u001b[0m\u001b[0;34m\u001b[0m\u001b[0m\n\u001b[1;32m      4\u001b[0m \u001b[0;32massert\u001b[0m \u001b[0mos\u001b[0m\u001b[0;34m.\u001b[0m\u001b[0mpath\u001b[0m\u001b[0;34m.\u001b[0m\u001b[0mexists\u001b[0m\u001b[0;34m(\u001b[0m\u001b[0mpath\u001b[0m\u001b[0;34m)\u001b[0m\u001b[0;34m,\u001b[0m \u001b[0mmsg\u001b[0m\u001b[0;34m\u001b[0m\u001b[0m\n\u001b[1;32m      5\u001b[0m \u001b[0;34m\u001b[0m\u001b[0m\n",
      "\u001b[0;31mNameError\u001b[0m: name 'path_join' is not defined"
     ]
    }
   ],
   "source": []
  },
  {
   "cell_type": "code",
   "execution_count": null,
   "metadata": {},
   "outputs": [],
   "source": []
  },
  {
   "cell_type": "code",
   "execution_count": null,
   "metadata": {},
   "outputs": [],
   "source": []
  },
  {
   "cell_type": "code",
   "execution_count": null,
   "metadata": {},
   "outputs": [],
   "source": []
  }
 ],
 "metadata": {
  "kernelspec": {
   "display_name": "Python 3",
   "language": "python",
   "name": "python3"
  },
  "language_info": {
   "codemirror_mode": {
    "name": "ipython",
    "version": 3
   },
   "file_extension": ".py",
   "mimetype": "text/x-python",
   "name": "python",
   "nbconvert_exporter": "python",
   "pygments_lexer": "ipython3",
   "version": "3.5.2"
  }
 },
 "nbformat": 4,
 "nbformat_minor": 2
}
