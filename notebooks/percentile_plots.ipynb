{
 "cells": [
  {
   "cell_type": "code",
   "execution_count": null,
   "metadata": {},
   "outputs": [],
   "source": []
  },
  {
   "cell_type": "code",
   "execution_count": null,
   "metadata": {},
   "outputs": [],
   "source": [
    "dataset = \"mnist\"\n",
    "\n",
    "order= ['rescale', 'vertical_flip', 'horizontal_flip', 'rotation_range', 'pad'] # change order to params\n",
    "config_space = ImageAugmentation.get_config_space()\n",
    "\n",
    "\n",
    "X = []\n",
    "\n",
    "for c in results[dataset][\"configs\"]:\n",
    "    vec = []\n",
    "    for j, k in enumerate(order):\n",
    "        if c[k] is not None: \n",
    "            vec.append(c[k])\n",
    "            \n",
    "        else:\n",
    "            vec.append(0)\n",
    "    X.append(vec)\n",
    "X = np.array(X)\n",
    "y = results[dataset][\"validation_error\"]\n",
    "\n",
    "current_palette= sns.color_palette(\"hls\", 5)\n",
    "\n",
    "sns.set_palette(current_palette)\n",
    "sns.distplot(X[:, 3], label='all', norm_hist=True) # use named tuple here\n",
    "\n",
    "\n",
    "\n",
    "p = np.percentile(y, 50)\n",
    "perc_50 = np.where(y < p)\n",
    "sns.distplot(X[perc_50, 3], label='50 Percentile', norm_hist=True)\n",
    "\n",
    "p = np.percentile(y, 30)\n",
    "perc_30 = np.where(y < p)\n",
    "sns.distplot(X[perc_30, 3], label='30 Percentile', norm_hist=True)\n",
    "\n",
    "p = np.percentile(y, 20)\n",
    "perc_20 = np.where(y < p)\n",
    "sns.distplot(X[perc_20, 3], label='20 Percentile', norm_hist=True)\n",
    "\n",
    "p = np.percentile(y, 10)\n",
    "perc_10 = np.where(y < p)\n",
    "sns.distplot(X[perc_10, 3], label='10 Percentile', norm_hist=True)\n",
    "\n",
    "idx = np.argmin(y)\n",
    "plt.axvline(X[idx, 3], linestyle=\"--\", color=\"black\", label=\"best\")\n",
    "plt.title(dataset, fontsize=25)\n",
    "plt.xlabel('Rotation', size=25)\n",
    "plt.ylabel('Validation Error', size=25)\n",
    "plt.legend(loc=2)\n",
    "plt.show()"
   ]
  }
 ],
 "metadata": {
  "kernelspec": {
   "display_name": "Python 3",
   "language": "python",
   "name": "python3"
  },
  "language_info": {
   "codemirror_mode": {
    "name": "ipython",
    "version": 3
   },
   "file_extension": ".py",
   "mimetype": "text/x-python",
   "name": "python",
   "nbconvert_exporter": "python",
   "pygments_lexer": "ipython3",
   "version": "3.5.2"
  }
 },
 "nbformat": 4,
 "nbformat_minor": 2
}
