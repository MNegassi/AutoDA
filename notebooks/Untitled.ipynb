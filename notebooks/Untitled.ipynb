{
 "cells": [
  {
   "cell_type": "code",
   "execution_count": 1,
   "metadata": {},
   "outputs": [
    {
     "name": "stdout",
     "output_type": "stream",
     "text": [
      "/mhome/negassim/AutoDA/notebooks/../../AutoData/cifar10/\n"
     ]
    }
   ],
   "source": [
    "import sys\n",
    "import os\n",
    "from os.path import abspath, join as path_join\n",
    "import numpy as np\n",
    "import ConfigSpace as CS\n",
    "import json\n",
    "%matplotlib inline\n",
    "import matplotlib.pyplot as plt\n",
    "import seaborn as sns\n",
    "PARENT_DIR =  path_join(os.getcwd(), \"..\", \"..\")\n",
    "sys.path.insert(0, PARENT_DIR)\n",
    "\n",
    "\n",
    "sns.set_style(style='whitegrid')\n",
    "\n",
    "\n",
    "plt.rcParams['figure.figsize'] = (8.0, 6.0)\n",
    "plt.rcParams['xtick.labelsize'] = 15\n",
    "plt.rcParams['ytick.labelsize'] = 15\n",
    "plt.rc('font', size=15.0, family='serif')\n",
    "plt.rcParams['text.latex.preamble']=[r\"\\usepackage{amsmath}\"]\n",
    "\n",
    "\n",
    "path = path_join(abspath(\".\"), \"..\", \"..\", \"AutoData/cifar10/\")\n",
    "print(path)\n",
    "#assert that path exists\n",
    "msg = \"Results to plot do not exist. Check path. {}\".format(path)\n",
    "assert os.path.exists(path), msg\n",
    "\n",
    "datasets = ['cifar10']"
   ]
  },
  {
   "cell_type": "code",
   "execution_count": 3,
   "metadata": {},
   "outputs": [
    {
     "name": "stdout",
     "output_type": "stream",
     "text": [
      "/mhome/negassim/AutoDA/notebooks/../../AutoData/cifar10/\n"
     ]
    }
   ],
   "source": [
    "No Augment"
   ]
  },
  {
   "cell_type": "code",
   "execution_count": 41,
   "metadata": {},
   "outputs": [
    {
     "name": "stdout",
     "output_type": "stream",
     "text": [
      "[0.19499999999999995, 0.19579999999999997, 0.19240000000000002, 0.19120000000000004, 0.1875, 0.18569999999999998, 0.1884]\n"
     ]
    }
   ],
   "source": [
    "for d in datasets:\n",
    "    validation_error  = []\n",
    "    n_runs = 10\n",
    "    for i in range(3, n_runs):\n",
    "        try:\n",
    "            from os.path import abspath, join as path_join\n",
    "            config_path = \"no_augment/no_augment_%s_%d.json\" % (d, i)\n",
    "            filename = path_join(path, config_path)\n",
    "            with open(filename, \"r\") as f:\n",
    "                res = json.load(f)\n",
    "        except FileNotFoundError:\n",
    "            print(i, d)\n",
    "            continue\n",
    "        validation_error.append(res['validation_error'])\n",
    "\n",
    "no_augment = validation_error\n",
    "print(no_augment)"
   ]
  },
  {
   "cell_type": "code",
   "execution_count": null,
   "metadata": {
    "collapsed": true
   },
   "outputs": [],
   "source": [
    "Default Augment"
   ]
  },
  {
   "cell_type": "code",
   "execution_count": 40,
   "metadata": {},
   "outputs": [
    {
     "name": "stdout",
     "output_type": "stream",
     "text": [
      "/mhome/negassim/AutoDA/notebooks/../../AutoData/cifar10/default_augment/default_augment_cifar10_3.json\n",
      "/mhome/negassim/AutoDA/notebooks/../../AutoData/cifar10/default_augment/default_augment_cifar10_4.json\n",
      "/mhome/negassim/AutoDA/notebooks/../../AutoData/cifar10/default_augment/default_augment_cifar10_5.json\n",
      "/mhome/negassim/AutoDA/notebooks/../../AutoData/cifar10/default_augment/default_augment_cifar10_6.json\n",
      "/mhome/negassim/AutoDA/notebooks/../../AutoData/cifar10/default_augment/default_augment_cifar10_7.json\n",
      "/mhome/negassim/AutoDA/notebooks/../../AutoData/cifar10/default_augment/default_augment_cifar10_8.json\n",
      "/mhome/negassim/AutoDA/notebooks/../../AutoData/cifar10/default_augment/default_augment_cifar10_9.json\n"
     ]
    }
   ],
   "source": [
    "for d in datasets:\n",
    "    validation_error  = []\n",
    "    n_runs = 10\n",
    "    for i in range(3, n_runs):\n",
    "        try:\n",
    "            from os.path import abspath, join as path_join\n",
    "            config_path = \"default_augment/default_augment_%s_%d.json\" % (d, i)\n",
    "            filename = path_join(path, config_path)\n",
    "            print(filename)\n",
    "            with open(filename, \"r\") as f:\n",
    "                res = json.load(f)\n",
    "        except FileNotFoundError:\n",
    "            print(i, d)\n",
    "            continue\n",
    "        validation_error.append(res['validation_error'])\n",
    "default_augment = validation_error"
   ]
  },
  {
   "cell_type": "markdown",
   "metadata": {},
   "source": [
    "Optimized new augment pipeline"
   ]
  },
  {
   "cell_type": "code",
   "execution_count": 39,
   "metadata": {},
   "outputs": [
    {
     "name": "stdout",
     "output_type": "stream",
     "text": [
      "file /mhome/negassim/AutoDA/notebooks/../../AutoData/cifar10/best_config_v2/best_config_cifar10_3.json\n",
      "file /mhome/negassim/AutoDA/notebooks/../../AutoData/cifar10/best_config_v2/best_config_cifar10_4.json\n",
      "file /mhome/negassim/AutoDA/notebooks/../../AutoData/cifar10/best_config_v2/best_config_cifar10_5.json\n",
      "file /mhome/negassim/AutoDA/notebooks/../../AutoData/cifar10/best_config_v2/best_config_cifar10_6.json\n",
      "file /mhome/negassim/AutoDA/notebooks/../../AutoData/cifar10/best_config_v2/best_config_cifar10_7.json\n",
      "file /mhome/negassim/AutoDA/notebooks/../../AutoData/cifar10/best_config_v2/best_config_cifar10_8.json\n",
      "file /mhome/negassim/AutoDA/notebooks/../../AutoData/cifar10/best_config_v2/best_config_cifar10_9.json\n",
      "[0.2007, 0.20079999999999998, 0.20379999999999998, 0.19899999999999995, 0.19889999999999997, 0.2106, 0.20079999999999998]\n"
     ]
    }
   ],
   "source": [
    "for d in datasets:\n",
    "    validation_error  = []\n",
    "    n_runs = 10\n",
    "    for i in range(3, n_runs):\n",
    "        try:\n",
    "            from os.path import abspath, join as path_join\n",
    "            config_path = \"best_config_v2/best_config_%s_%d.json\" % (d, i)\n",
    "            filename = path_join(path, config_path)\n",
    "            print(\"file\",filename)\n",
    "            with open(filename, \"r\") as f:      \n",
    "                res = json.load(f)\n",
    "        except FileNotFoundError:\n",
    "            print(i, d)\n",
    "            continue\n",
    "        validation_error.append(res['validation_error'])\n",
    "best_augment = validation_error\n",
    "print(best_augment)"
   ]
  },
  {
   "cell_type": "code",
   "execution_count": 52,
   "metadata": {},
   "outputs": [
    {
     "name": "stdout",
     "output_type": "stream",
     "text": [
      "{'pad_crop_probability': 0.8105077648232032, 'vertical_flip': 0.0, 'coarse_dropout_probability': 0.0, 'shear_lower': -16, 'rotation_probability': 0.0, 'coarse_dropout_upper': 0.19000717813966617, 'shear_upper': 6, 'rotation_upper': 94, 'pad_crop_upper': 0.16538020324852376, 'scale_probability': 0.0, 'pad_crop_lower': -0.2168768727205341, 'horizontal_flip': 0.30558181223253567, 'elastic_transform_alpha_upper': 4.730735727403303, 'gaussian_noise_scale_lower': 11.81935144055151, 'rotation_lower': -125, 'augment_probability': 0.6776250264328112, 'coarse_dropout_per_channel': 0.6207410358587365, 'gaussian_noise_probability': 0.0, 'gaussian_noise_scale_upper': 18.6804118829404, 'elastic_transform_alpha_lower': 0.771287516345017, 'scale_lower': 0.9184209184311991, 'coarse_dropout_size_percent_lower': 0.0904715033023456, 'elastic_transform_probability': 0.0, 'coarse_dropout_size_percent_upper': 0.12618168883693448, 'coarse_dropout_lower': 0.0677709696315759, 'scale_upper': 1.6975745326083556, 'shear_probability': 0.0, 'elastic_transform_sigma': 0.061477398825063534}\n"
     ]
    }
   ],
   "source": [
    "print(json.load(open(os.path.join(path, \"best_config_v1/best_config_cifar10_3.json\")))['configs'])"
   ]
  },
  {
   "cell_type": "code",
   "execution_count": 47,
   "metadata": {},
   "outputs": [
    {
     "name": "stdout",
     "output_type": "stream",
     "text": [
      "file /mhome/negassim/AutoDA/notebooks/../../AutoData/cifar10/best_config_v1/best_config_cifar10_3.json\n",
      "file /mhome/negassim/AutoDA/notebooks/../../AutoData/cifar10/best_config_v1/best_config_cifar10_4.json\n",
      "file /mhome/negassim/AutoDA/notebooks/../../AutoData/cifar10/best_config_v1/best_config_cifar10_5.json\n",
      "file /mhome/negassim/AutoDA/notebooks/../../AutoData/cifar10/best_config_v1/best_config_cifar10_6.json\n",
      "file /mhome/negassim/AutoDA/notebooks/../../AutoData/cifar10/best_config_v1/best_config_cifar10_7.json\n",
      "file /mhome/negassim/AutoDA/notebooks/../../AutoData/cifar10/best_config_v1/best_config_cifar10_8.json\n",
      "file /mhome/negassim/AutoDA/notebooks/../../AutoData/cifar10/best_config_v1/best_config_cifar10_9.json\n",
      "[0.15069999999999995, 0.16110000000000002, 0.1532, 0.1592, 0.16410000000000002, 0.15139999999999998, 0.16149999999999998]\n"
     ]
    }
   ],
   "source": [
    "for d in datasets:\n",
    "    validation_error  = []\n",
    "    n_runs = 10\n",
    "    for i in range(3, n_runs):\n",
    "        try:\n",
    "            from os.path import abspath, join as path_join\n",
    "            config_path = \"best_config_v1/best_config_%s_%d.json\" % (d, i)\n",
    "            filename = path_join(path, config_path)\n",
    "            print(\"file\",filename)\n",
    "            with open(filename, \"r\") as f:      \n",
    "                res = json.load(f)\n",
    "        except FileNotFoundError:\n",
    "            print(i, d)\n",
    "            continue\n",
    "        validation_error.append(res['validation_error'])\n",
    "optimized_standard_augment = validation_error\n",
    "print(optimized_standard_augment)"
   ]
  },
  {
   "cell_type": "code",
   "execution_count": 43,
   "metadata": {},
   "outputs": [
    {
     "data": {
      "image/png": "[encoded data removed]",
      "text/plain": [
       "<matplotlib.figure.Figure at 0x7f2f90e43518>"
      ]
     },
     "metadata": {},
     "output_type": "display_data"
    }
   ],
   "source": [
    "import pandas as pd\n",
    "data = pd.DataFrame({\"standard\": default_augment, \"no_aug\": no_augment, \n",
    "                     \"opt_pipeline\": best_augment,\n",
    "                      \"opt_standard\": optimized_standard_augment})\n",
    "ax = sns.barplot(data=data)"
   ]
  },
  {
   "cell_type": "code",
   "execution_count": 33,
   "metadata": {},
   "outputs": [
    {
     "name": "stdout",
     "output_type": "stream",
     "text": [
      "file /mhome/negassim/AutoDA/notebooks/../../AutoData/cifar10/hyperband/hyperband_result_1800.json\n",
      "[0.17969999999999997]\n",
      "file /mhome/negassim/AutoDA/notebooks/../../AutoData/cifar10/hyperband/hyperband_result_7200.json\n",
      "[0.17969999999999997, 0.14649999999999996]\n"
     ]
    },
    {
     "data": {
      "image/png": "[encoded data removed]",
      "text/plain": [
       "<matplotlib.figure.Figure at 0x7f2f9113fe10>"
      ]
     },
     "metadata": {},
     "output_type": "display_data"
    }
   ],
   "source": [
    "for d in datasets:\n",
    "    validation_error  = []\n",
    "    n_runs = [1800, 7200]\n",
    "    for i in (n_runs):\n",
    "        try:\n",
    "            from os.path import abspath, join as path_join\n",
    "            config_path = \"hyperband/hyperband_result_%i.json\" %i\n",
    "            filename = path_join(path, config_path)\n",
    "            with open(filename, \"r\") as f:      \n",
    "                res = json.load(f)           \n",
    "        except FileNotFoundError:\n",
    "            print(i, d)\n",
    "            continue\n",
    "        validation_error.append(res['best_run_info']['validation_error'])\n",
    "        print(validation_error)\n",
    "hyperband_opt = validation_error\n",
    "\n",
    "\n",
    "import pandas as pd\n",
    "hyperband_data = pd.DataFrame({\"hyperband_opt\": hyperband_opt \n",
    "                     \n",
    "                      })\n",
    "ax = sns.barplot(data=hyperband_data)"
   ]
  },
  {
   "cell_type": "code",
   "execution_count": null,
   "metadata": {
    "collapsed": true
   },
   "outputs": [],
   "source": []
  }
 ],
 "metadata": {
  "kernelspec": {
   "display_name": "Python 3",
   "language": "python",
   "name": "python3"
  },
  "language_info": {
   "codemirror_mode": {
    "name": "ipython",
    "version": 3
   },
   "file_extension": ".py",
   "mimetype": "text/x-python",
   "name": "python",
   "nbconvert_exporter": "python",
   "pygments_lexer": "ipython3",
   "version": "3.5.2"
  }
 },
 "nbformat": 4,
 "nbformat_minor": 2
}
