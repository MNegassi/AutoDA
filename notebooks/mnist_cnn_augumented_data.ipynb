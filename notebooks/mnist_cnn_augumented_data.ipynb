{
 "cells": [
  {
   "cell_type": "markdown",
   "metadata": {},
   "source": [
    "\n",
    "Training CNN on augumented MNIST data"
   ]
  },
  {
   "cell_type": "code",
   "execution_count": 5,
   "metadata": {},
   "outputs": [],
   "source": [
    "from __future__ import print_function\n",
    "import os\n",
    "import sys\n",
    "sys.path.append('..')\n",
    "\n",
    "import json\n",
    "import keras\n",
    "from keras.datasets import mnist\n",
    "from keras.models import Sequential\n",
    "from keras.layers import Dense, Dropout, Flatten\n",
    "from keras.layers import Conv2D, MaxPooling2D\n",
    "from keras import backend as K\n",
    "from param_net import ImageAugmentation\n",
    "\n",
    "batch_size = 128\n",
    "num_classes = 10\n",
    "epochs = 12"
   ]
  },
  {
   "cell_type": "code",
   "execution_count": 25,
   "metadata": {},
   "outputs": [
    {
     "name": "stdout",
     "output_type": "stream",
     "text": [
      "channels_first (60000, 28, 28)\n",
      "x_train shape: (60000, 1, 28, 28)\n",
      "60000 train samples\n",
      "10000 test samples\n"
     ]
    }
   ],
   "source": [
    "# input image dimensions\n",
    "img_rows, img_cols = 28, 28\n",
    "\n",
    "# the data, shuffled and split between train and test sets()\n",
    "(x_train, y_train), (x_test, y_test) = mnist.load_data()\n",
    "\n",
    "if K.image_data_format() == 'channels_first':\n",
    "    x_train = x_train.reshape(x_train.shape[0], 1, img_rows, img_cols)\n",
    "    x_test = x_test.reshape(x_test.shape[0], 1, img_rows, img_cols)\n",
    "    input_shape = (1, img_rows, img_cols)\n",
    "else:\n",
    "    x_train = x_train.reshape(x_train.shape[0], img_rows, img_cols, 1)\n",
    "    x_test = x_test.reshape(x_test.shape[0], img_rows, img_cols, 1)\n",
    "    input_shape = (img_rows, img_cols, 1)\n",
    "\n",
    "x_train = x_train.astype('float32')\n",
    "x_test = x_test.astype('float32')\n",
    "x_train /= 255\n",
    "x_test /= 255\n",
    "print('x_train shape:', x_train.shape)\n",
    "print(x_train.shape[0], 'train samples')\n",
    "print(x_test.shape[0], 'test samples')\n",
    "\n",
    "# convert class vectors to binary class matrices\n",
    "y_train = keras.utils.to_categorical(y_train, num_classes)\n",
    "y_test = keras.utils.to_categorical(y_test, num_classes)\n"
   ]
  },
  {
   "cell_type": "markdown",
   "metadata": {},
   "source": [
    "Apply data Augmentation"
   ]
  },
  {
   "cell_type": "code",
   "execution_count": 7,
   "metadata": {
    "collapsed": true
   },
   "outputs": [],
   "source": []
  },
  {
   "cell_type": "markdown",
   "metadata": {},
   "source": [
    "Train CNN model with augmented data"
   ]
  },
  {
   "cell_type": "code",
   "execution_count": 26,
   "metadata": {},
   "outputs": [],
   "source": [
    "model = Sequential()\n",
    "model.add(Conv2D(32, kernel_size=(3, 3),\n",
    "                 activation='relu',\n",
    "                 input_shape=input_shape))\n",
    "model.add(Conv2D(64, (3, 3), activation='relu'))\n",
    "model.add(MaxPooling2D(pool_size=(2, 2)))\n",
    "model.add(Dropout(0.25))\n",
    "model.add(Flatten())\n",
    "model.add(Dense(128, activation='relu'))\n",
    "model.add(Dropout(0.5))\n",
    "model.add(Dense(num_classes, activation='softmax'))\n",
    "\n",
    "model.compile(loss=keras.losses.categorical_crossentropy,\n",
    "              optimizer=keras.optimizers.Adadelta(),\n",
    "              metrics=['accuracy'])\n",
    "\n"
   ]
  },
  {
   "cell_type": "code",
   "execution_count": 12,
   "metadata": {
    "collapsed": true
   },
   "outputs": [],
   "source": [
    "config = ImageAugmentation.get_config_space().sample_configuration()\n",
    "ia = ImageAugmentation(config)"
   ]
  },
  {
   "cell_type": "code",
   "execution_count": 27,
   "metadata": {},
   "outputs": [
    {
     "name": "stdout",
     "output_type": "stream",
     "text": [
      "Epoch 1/12\n"
     ]
    },
    {
     "name": "stderr",
     "output_type": "stream",
     "text": [
      "/home/misgana/tensorflow/lib/python3.5/site-packages/keras/preprocessing/image.py:653: UserWarning: Expected input to be images (as Numpy array) following the data format convention \"channels_last\" (channels on axis 3), i.e. expected either 1, 3 or 4 channels on axis 3. However, it was passed an array with shape (128, 1, 28, 28) (28 channels).\n",
      "  ' (' + str(x.shape[self.channel_axis]) + ' channels).')\n",
      "/home/misgana/tensorflow/lib/python3.5/site-packages/keras/preprocessing/image.py:787: UserWarning: NumpyArrayIterator is set to use the data format convention \"channels_last\" (channels on axis 3), i.e. expected either 1, 3 or 4 channels on axis 3. However, it was passed an array with shape (128, 1, 28, 28) (28 channels).\n",
      "  ' (' + str(self.x.shape[channels_axis]) + ' channels).')\n"
     ]
    },
    {
     "ename": "ValueError",
     "evalue": "Output of generator should be a tuple `(x, y, sample_weight)` or `(x, y)`. Found: [[[[ 0.          0.          0.         ...,  0.          0.          0.        ]\n   [ 0.          0.          0.         ...,  0.          0.          0.        ]\n   [ 0.          0.          0.         ...,  0.          0.          0.        ]\n   ..., \n   [ 0.          0.          0.08235294 ...,  0.          0.          0.        ]\n   [ 0.          0.          0.         ...,  0.          0.          0.        ]\n   [ 0.          0.          0.         ...,  0.          0.          0.        ]]]\n\n\n [[[ 0.          0.          0.         ...,  0.          0.          0.        ]\n   [ 0.          0.          0.         ...,  0.          0.          0.        ]\n   [ 0.          0.          0.         ...,  0.          0.          0.        ]\n   ..., \n   [ 0.          0.          0.         ...,  0.          0.          0.        ]\n   [ 0.          0.          0.         ...,  0.          0.          0.        ]\n   [ 0.          0.          0.         ...,  0.          0.          0.        ]]]\n\n\n [[[ 0.          0.          0.         ...,  0.          0.          0.        ]\n   [ 0.          0.          0.         ...,  0.          0.          0.        ]\n   [ 0.          0.          0.         ...,  0.          0.          0.        ]\n   ..., \n   [ 0.          0.          0.         ...,  0.          0.          0.        ]\n   [ 0.          0.          0.         ...,  0.          0.          0.        ]\n   [ 0.          0.          0.         ...,  0.          0.          0.        ]]]\n\n\n ..., \n [[[ 0.          0.          0.         ...,  0.          0.          0.        ]\n   [ 0.          0.          0.         ...,  0.          0.          0.        ]\n   [ 0.          0.          0.         ...,  0.          0.          0.        ]\n   ..., \n   [ 0.          0.          0.         ...,  0.          0.          0.        ]\n   [ 0.          0.          0.         ...,  0.          0.          0.        ]\n   [ 0.          0.          0.         ...,  0.          0.          0.        ]]]\n\n\n [[[ 0.          0.          0.         ...,  0.          0.          0.        ]\n   [ 0.          0.          0.         ...,  0.          0.          0.        ]\n   [ 0.          0.          0.         ...,  0.          0.          0.        ]\n   ..., \n   [ 0.          0.          0.         ...,  0.          0.          0.        ]\n   [ 0.          0.          0.         ...,  0.          0.          0.        ]\n   [ 0.          0.          0.         ...,  0.          0.          0.        ]]]\n\n\n [[[ 0.          0.          0.         ...,  0.          0.          0.        ]\n   [ 0.          0.          0.         ...,  0.          0.          0.        ]\n   [ 0.          0.          0.         ...,  0.          0.          0.        ]\n   ..., \n   [ 0.          0.          0.         ...,  0.          0.          0.        ]\n   [ 0.          0.          0.         ...,  0.          0.          0.        ]\n   [ 0.          0.          0.         ...,  0.          0.          0.        ]]]]",
     "output_type": "error",
     "traceback": [
      "\u001b[0;31m---------------------------------------------------------------------------\u001b[0m",
      "\u001b[0;31mValueError\u001b[0m                                Traceback (most recent call last)",
      "\u001b[0;32m<ipython-input-27-bedb65a87d61>\u001b[0m in \u001b[0;36m<module>\u001b[0;34m()\u001b[0m\n\u001b[1;32m      7\u001b[0m                     \u001b[0mepochs\u001b[0m\u001b[0;34m=\u001b[0m\u001b[0mepochs\u001b[0m\u001b[0;34m,\u001b[0m\u001b[0;34m\u001b[0m\u001b[0m\n\u001b[1;32m      8\u001b[0m                     \u001b[0mverbose\u001b[0m\u001b[0;34m=\u001b[0m\u001b[0;36m1\u001b[0m\u001b[0;34m,\u001b[0m\u001b[0;34m\u001b[0m\u001b[0m\n\u001b[0;32m----> 9\u001b[0;31m                     validation_data=(x_test, y_test))\n\u001b[0m\u001b[1;32m     10\u001b[0m \u001b[0mscore\u001b[0m \u001b[0;34m=\u001b[0m \u001b[0mmodel\u001b[0m\u001b[0;34m.\u001b[0m\u001b[0mevaluate\u001b[0m\u001b[0;34m(\u001b[0m\u001b[0mx_test\u001b[0m\u001b[0;34m,\u001b[0m \u001b[0my_test\u001b[0m\u001b[0;34m,\u001b[0m \u001b[0mverbose\u001b[0m\u001b[0;34m=\u001b[0m\u001b[0;36m0\u001b[0m\u001b[0;34m)\u001b[0m\u001b[0;34m\u001b[0m\u001b[0m\n\u001b[1;32m     11\u001b[0m \u001b[0mprint\u001b[0m\u001b[0;34m(\u001b[0m\u001b[0;34m'Test loss:'\u001b[0m\u001b[0;34m,\u001b[0m \u001b[0mscore\u001b[0m\u001b[0;34m[\u001b[0m\u001b[0;36m0\u001b[0m\u001b[0;34m]\u001b[0m\u001b[0;34m)\u001b[0m\u001b[0;34m\u001b[0m\u001b[0m\n",
      "\u001b[0;32m~/tensorflow/lib/python3.5/site-packages/keras/legacy/interfaces.py\u001b[0m in \u001b[0;36mwrapper\u001b[0;34m(*args, **kwargs)\u001b[0m\n\u001b[1;32m     85\u001b[0m                 warnings.warn('Update your `' + object_name +\n\u001b[1;32m     86\u001b[0m                               '` call to the Keras 2 API: ' + signature, stacklevel=2)\n\u001b[0;32m---> 87\u001b[0;31m             \u001b[0;32mreturn\u001b[0m \u001b[0mfunc\u001b[0m\u001b[0;34m(\u001b[0m\u001b[0;34m*\u001b[0m\u001b[0margs\u001b[0m\u001b[0;34m,\u001b[0m \u001b[0;34m**\u001b[0m\u001b[0mkwargs\u001b[0m\u001b[0;34m)\u001b[0m\u001b[0;34m\u001b[0m\u001b[0m\n\u001b[0m\u001b[1;32m     88\u001b[0m         \u001b[0mwrapper\u001b[0m\u001b[0;34m.\u001b[0m\u001b[0m_original_function\u001b[0m \u001b[0;34m=\u001b[0m \u001b[0mfunc\u001b[0m\u001b[0;34m\u001b[0m\u001b[0m\n\u001b[1;32m     89\u001b[0m         \u001b[0;32mreturn\u001b[0m \u001b[0mwrapper\u001b[0m\u001b[0;34m\u001b[0m\u001b[0m\n",
      "\u001b[0;32m~/tensorflow/lib/python3.5/site-packages/keras/models.py\u001b[0m in \u001b[0;36mfit_generator\u001b[0;34m(self, generator, steps_per_epoch, epochs, verbose, callbacks, validation_data, validation_steps, class_weight, max_queue_size, workers, use_multiprocessing, initial_epoch)\u001b[0m\n\u001b[1;32m   1119\u001b[0m                                         \u001b[0mworkers\u001b[0m\u001b[0;34m=\u001b[0m\u001b[0mworkers\u001b[0m\u001b[0;34m,\u001b[0m\u001b[0;34m\u001b[0m\u001b[0m\n\u001b[1;32m   1120\u001b[0m                                         \u001b[0muse_multiprocessing\u001b[0m\u001b[0;34m=\u001b[0m\u001b[0muse_multiprocessing\u001b[0m\u001b[0;34m,\u001b[0m\u001b[0;34m\u001b[0m\u001b[0m\n\u001b[0;32m-> 1121\u001b[0;31m                                         initial_epoch=initial_epoch)\n\u001b[0m\u001b[1;32m   1122\u001b[0m \u001b[0;34m\u001b[0m\u001b[0m\n\u001b[1;32m   1123\u001b[0m     \u001b[0;34m@\u001b[0m\u001b[0minterfaces\u001b[0m\u001b[0;34m.\u001b[0m\u001b[0mlegacy_generator_methods_support\u001b[0m\u001b[0;34m\u001b[0m\u001b[0m\n",
      "\u001b[0;32m~/tensorflow/lib/python3.5/site-packages/keras/legacy/interfaces.py\u001b[0m in \u001b[0;36mwrapper\u001b[0;34m(*args, **kwargs)\u001b[0m\n\u001b[1;32m     85\u001b[0m                 warnings.warn('Update your `' + object_name +\n\u001b[1;32m     86\u001b[0m                               '` call to the Keras 2 API: ' + signature, stacklevel=2)\n\u001b[0;32m---> 87\u001b[0;31m             \u001b[0;32mreturn\u001b[0m \u001b[0mfunc\u001b[0m\u001b[0;34m(\u001b[0m\u001b[0;34m*\u001b[0m\u001b[0margs\u001b[0m\u001b[0;34m,\u001b[0m \u001b[0;34m**\u001b[0m\u001b[0mkwargs\u001b[0m\u001b[0;34m)\u001b[0m\u001b[0;34m\u001b[0m\u001b[0m\n\u001b[0m\u001b[1;32m     88\u001b[0m         \u001b[0mwrapper\u001b[0m\u001b[0;34m.\u001b[0m\u001b[0m_original_function\u001b[0m \u001b[0;34m=\u001b[0m \u001b[0mfunc\u001b[0m\u001b[0;34m\u001b[0m\u001b[0m\n\u001b[1;32m     89\u001b[0m         \u001b[0;32mreturn\u001b[0m \u001b[0mwrapper\u001b[0m\u001b[0;34m\u001b[0m\u001b[0m\n",
      "\u001b[0;32m~/tensorflow/lib/python3.5/site-packages/keras/engine/training.py\u001b[0m in \u001b[0;36mfit_generator\u001b[0;34m(self, generator, steps_per_epoch, epochs, verbose, callbacks, validation_data, validation_steps, class_weight, max_queue_size, workers, use_multiprocessing, shuffle, initial_epoch)\u001b[0m\n\u001b[1;32m   2022\u001b[0m                                          \u001b[0;34m'a tuple `(x, y, sample_weight)` '\u001b[0m\u001b[0;34m\u001b[0m\u001b[0m\n\u001b[1;32m   2023\u001b[0m                                          \u001b[0;34m'or `(x, y)`. Found: '\u001b[0m \u001b[0;34m+\u001b[0m\u001b[0;34m\u001b[0m\u001b[0m\n\u001b[0;32m-> 2024\u001b[0;31m                                          str(generator_output))\n\u001b[0m\u001b[1;32m   2025\u001b[0m                     \u001b[0;31m# build batch logs\u001b[0m\u001b[0;34m\u001b[0m\u001b[0;34m\u001b[0m\u001b[0m\n\u001b[1;32m   2026\u001b[0m                     \u001b[0mbatch_logs\u001b[0m \u001b[0;34m=\u001b[0m \u001b[0;34m{\u001b[0m\u001b[0;34m}\u001b[0m\u001b[0;34m\u001b[0m\u001b[0m\n",
      "\u001b[0;31mValueError\u001b[0m: Output of generator should be a tuple `(x, y, sample_weight)` or `(x, y)`. Found: [[[[ 0.          0.          0.         ...,  0.          0.          0.        ]\n   [ 0.          0.          0.         ...,  0.          0.          0.        ]\n   [ 0.          0.          0.         ...,  0.          0.          0.        ]\n   ..., \n   [ 0.          0.          0.08235294 ...,  0.          0.          0.        ]\n   [ 0.          0.          0.         ...,  0.          0.          0.        ]\n   [ 0.          0.          0.         ...,  0.          0.          0.        ]]]\n\n\n [[[ 0.          0.          0.         ...,  0.          0.          0.        ]\n   [ 0.          0.          0.         ...,  0.          0.          0.        ]\n   [ 0.          0.          0.         ...,  0.          0.          0.        ]\n   ..., \n   [ 0.          0.          0.         ...,  0.          0.          0.        ]\n   [ 0.          0.          0.         ...,  0.          0.          0.        ]\n   [ 0.          0.          0.         ...,  0.          0.          0.        ]]]\n\n\n [[[ 0.          0.          0.         ...,  0.          0.          0.        ]\n   [ 0.          0.          0.         ...,  0.          0.          0.        ]\n   [ 0.          0.          0.         ...,  0.          0.          0.        ]\n   ..., \n   [ 0.          0.          0.         ...,  0.          0.          0.        ]\n   [ 0.          0.          0.         ...,  0.          0.          0.        ]\n   [ 0.          0.          0.         ...,  0.          0.          0.        ]]]\n\n\n ..., \n [[[ 0.          0.          0.         ...,  0.          0.          0.        ]\n   [ 0.          0.          0.         ...,  0.          0.          0.        ]\n   [ 0.          0.          0.         ...,  0.          0.          0.        ]\n   ..., \n   [ 0.          0.          0.         ...,  0.          0.          0.        ]\n   [ 0.          0.          0.         ...,  0.          0.          0.        ]\n   [ 0.          0.          0.         ...,  0.          0.          0.        ]]]\n\n\n [[[ 0.          0.          0.         ...,  0.          0.          0.        ]\n   [ 0.          0.          0.         ...,  0.          0.          0.        ]\n   [ 0.          0.          0.         ...,  0.          0.          0.        ]\n   ..., \n   [ 0.          0.          0.         ...,  0.          0.          0.        ]\n   [ 0.          0.          0.         ...,  0.          0.          0.        ]\n   [ 0.          0.          0.         ...,  0.          0.          0.        ]]]\n\n\n [[[ 0.          0.          0.         ...,  0.          0.          0.        ]\n   [ 0.          0.          0.         ...,  0.          0.          0.        ]\n   [ 0.          0.          0.         ...,  0.          0.          0.        ]\n   ..., \n   [ 0.          0.          0.         ...,  0.          0.          0.        ]\n   [ 0.          0.          0.         ...,  0.          0.          0.        ]\n   [ 0.          0.          0.         ...,  0.          0.          0.        ]]]]"
     ]
    }
   ],
   "source": [
    "# use model fit generator and pass the apply transform function here\n",
    "# think of how to use the config space here, how to call it muliple times to get multiple config spaces\n",
    "\n",
    "model.fit_generator(ia.apply_transform(x_train,\n",
    "                    batch_size=batch_size),\n",
    "                    steps_per_epoch=x_train.shape[0] // batch_size,\n",
    "                    epochs=epochs,\n",
    "                    verbose=1,\n",
    "                    validation_data=(x_test, y_test))\n",
    "score = model.evaluate(x_test, y_test, verbose=0)\n",
    "print('Test loss:', score[0])\n",
    "print('Test accuracy:', score[1])"
   ]
  },
  {
   "cell_type": "markdown",
   "metadata": {},
   "source": [
    "Plot here"
   ]
  },
  {
   "cell_type": "code",
   "execution_count": null,
   "metadata": {
    "collapsed": true
   },
   "outputs": [],
   "source": []
  }
 ],
 "metadata": {
  "kernelspec": {
   "display_name": "Python 3",
   "language": "python",
   "name": "python3"
  },
  "language_info": {
   "codemirror_mode": {
    "name": "ipython",
    "version": 3
   },
   "file_extension": ".py",
   "mimetype": "text/x-python",
   "name": "python",
   "nbconvert_exporter": "python",
   "pygments_lexer": "ipython3",
   "version": "3.5.2"
  }
 },
 "nbformat": 4,
 "nbformat_minor": 2
}
